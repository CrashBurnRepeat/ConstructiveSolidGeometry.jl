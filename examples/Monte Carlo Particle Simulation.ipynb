{
 "cells": [
  {
   "cell_type": "markdown",
   "metadata": {},
   "source": [
    "# Monte Carlo Particle Simulation Example\n",
    "In this example, we will construct a simple geometry to perform an \"Monte Carlo\" style particle simulation. For simplicity, a random walk will be used rather than actual physics. This example will also show how to use the package to visualize the particle's movement through animation\n",
    "\n",
    "## 1 - Create Geometry\n",
    "We will use the same geometry as in the \"Pincell\" Example problem."
   ]
  },
  {
   "cell_type": "code",
   "execution_count": 1,
   "metadata": {
    "collapsed": true
   },
   "outputs": [],
   "source": [
    "using ConstructiveSolidGeometry"
   ]
  },
  {
   "cell_type": "code",
   "execution_count": 2,
   "metadata": {
    "collapsed": true
   },
   "outputs": [],
   "source": [
    "top =   Plane(Coord(0.0, 0.0, 150.0),  unitize(Coord(0.0, 0.0, 1.0)),  \"reflective\")\n",
    "bot =   Plane(Coord(0.0, 0.0, -150.0), unitize(Coord(0.0, 0.0, -1.0)), \"reflective\")\n",
    "left =  Plane(Coord(-.63, 0.0, 0.0),   unitize(Coord(-1.0, 0.0, 0.0)), \"reflective\")\n",
    "right = Plane(Coord(0.63, 0.0, 0.0),   unitize(Coord(1.0, 0.0, 0.0)),  \"reflective\")\n",
    "up =    Plane(Coord(0.0, 0.63, 0.0),   unitize(Coord(0.0, 1.0, 0.0)),  \"reflective\")\n",
    "down =  Plane(Coord(0.0, -0.63, 0.0),  unitize(Coord(0.0, -1.0, 0.0)), \"reflective\")\n",
    "clad_outer = InfCylinder(Coord(0.0, 0.0, 0.0), unitize(Coord(0.0, 0.0, 1.0)), 0.4750)\n",
    "clad_inner = InfCylinder(Coord(0.0, 0.0, 0.0), unitize(Coord(0.0, 0.0, 1.0)), 0.4180)\n",
    "fuel =       InfCylinder(Coord(0.0, 0.0, 0.0), unitize(Coord(0.0, 0.0, 1.0)), 0.4096)\n",
    "cells = Array{Cell}(0)\n",
    "regions = Array{Region}(0)\n",
    "push!(regions, Region(top, -1))\n",
    "push!(regions, Region(bot, -1))\n",
    "push!(regions, Region(left, -1))\n",
    "push!(regions, Region(right, -1))\n",
    "push!(regions, Region(up, -1))\n",
    "push!(regions, Region(down, -1))\n",
    "push!(regions, Region(clad_outer, 1))\n",
    "ex = :(1 ^ 2 ^ 3 ^ 4 ^ 5 ^ 6 ^ 7)\n",
    "push!(cells, Cell(regions, ex))\n",
    "regions = Array{Region}(0)\n",
    "push!(regions, Region(top, -1))\n",
    "push!(regions, Region(bot, -1))\n",
    "push!(regions, Region(clad_outer, -1))\n",
    "push!(regions, Region(clad_inner, 1))\n",
    "ex = :(1 ^ 2 ^ 3 ^ 4)\n",
    "push!(cells, Cell(regions, ex))\n",
    "regions = Array{Region}(0)\n",
    "push!(regions, Region(top, -1))\n",
    "push!(regions, Region(bot, -1))\n",
    "push!(regions, Region(clad_inner, -1))\n",
    "push!(regions, Region(fuel, 1))\n",
    "ex = :(1 ^ 2 ^ 3 ^ 4)\n",
    "push!(cells, Cell(regions, ex))\n",
    "regions = Array{Region}(0)\n",
    "push!(regions, Region(top, -1))\n",
    "push!(regions, Region(bot, -1))\n",
    "push!(regions, Region(fuel, -1))\n",
    "ex = :(1 ^ 2 ^ 3)\n",
    "push!(cells, Cell(regions, ex))\n",
    "bounding_box = Box(Coord(-.63, -.63, -150), Coord(.63, .63, 150))\n",
    "geometry = Geometry(cells, bounding_box);"
   ]
  },
  {
   "cell_type": "markdown",
   "metadata": {},
   "source": [
    "## 2 - Define Random Walk Routine"
   ]
  },
  {
   "cell_type": "code",
   "execution_count": 17,
   "metadata": {
    "collapsed": false
   },
   "outputs": [
    {
     "name": "stderr",
     "output_type": "stream",
     "text": [
      "WARNING: Method definition move_particle(ConstructiveSolidGeometry.Ray, ConstructiveSolidGeometry.Geometry) in module Main at In[3]:3 overwritten at In[17]:3.\n"
     ]
    },
    {
     "data": {
      "text/plain": [
       "move_particle (generic function with 1 method)"
      ]
     },
     "execution_count": 17,
     "metadata": {},
     "output_type": "execute_result"
    }
   ],
   "source": [
    "function move_particle(ray::Ray, geometry::Geometry)\n",
    "    # Sample distance to travel\n",
    "    distance_to_scatter = rand() * 0.5\n",
    "    \n",
    "    # Determine next intersection distance\n",
    "    new_ray, id, boundary_type = find_intersection(ray, geometry)\n",
    "\n",
    "    # Compute distance travelled by the ray\n",
    "    distance_to_boundary = magnitude( new_ray.origin - ray.origin )\n",
    "    \n",
    "    # Check if scatter happened before boundary crossing\n",
    "    if distance_to_scatter < distance_to_boundary\n",
    "        # Sample new ray direction\n",
    "        new_ray = generate_random_ray(geometry.bounding_box)\n",
    "        \n",
    "        # Move ray to correct location\n",
    "        new_ray.origin = ray.origin + ray.direction * distance_to_scatter\n",
    "    end\n",
    "    \n",
    "    return new_ray\n",
    "end"
   ]
  },
  {
   "cell_type": "code",
   "execution_count": 4,
   "metadata": {
    "collapsed": false
   },
   "outputs": [],
   "source": [
    "using Plots"
   ]
  },
  {
   "cell_type": "code",
   "execution_count": 18,
   "metadata": {
    "collapsed": false
   },
   "outputs": [
    {
     "data": {
      "text/html": [
       "<img src=\"data:image/png;base64,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\" />"
      ]
     },
     "execution_count": 18,
     "metadata": {},
     "output_type": "execute_result"
    }
   ],
   "source": [
    "# Plot Background Geometry\n",
    "plot_geometry_2D(geometry, Box(Coord(-0.63, -0.63, 0), Coord(.63, 0.63, 0)), 1000)\n",
    "\n",
    "# Sample new particle\n",
    "ray = generate_random_ray(geometry.bounding_box)\n",
    "old_ray = generate_random_ray(geometry.bounding_box)\n",
    "\n",
    "# Plot particle steps\n",
    "for i=1:50\n",
    "    ray = move_particle(old_ray, geometry)\n",
    "    x = [old_ray.origin.x, ray.origin.x]\n",
    "    y = [old_ray.origin.y, ray.origin.y]\n",
    "    old_ray.origin = ray.origin\n",
    "    old_ray.direction = ray.direction\n",
    "    plot!(x, y, c=:black)\n",
    "end\n",
    "x = [old_ray.origin.x, ray.origin.x]\n",
    "y = [old_ray.origin.y, ray.origin.y]\n",
    "plot!(x, y, c=:black)"
   ]
  },
  {
   "cell_type": "code",
   "execution_count": null,
   "metadata": {
    "collapsed": true
   },
   "outputs": [],
   "source": []
  }
 ],
 "metadata": {
  "anaconda-cloud": {},
  "kernelspec": {
   "display_name": "Julia 0.5.0",
   "language": "julia",
   "name": "julia-0.5"
  },
  "language_info": {
   "file_extension": ".jl",
   "mimetype": "application/julia",
   "name": "julia",
   "version": "0.5.0"
  }
 },
 "nbformat": 4,
 "nbformat_minor": 1
}
